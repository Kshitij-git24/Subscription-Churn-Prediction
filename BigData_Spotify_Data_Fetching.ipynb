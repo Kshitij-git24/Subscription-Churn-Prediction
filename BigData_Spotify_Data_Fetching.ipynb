{
  "nbformat": 4,
  "nbformat_minor": 0,
  "metadata": {
    "colab": {
      "provenance": []
    },
    "kernelspec": {
      "name": "python3",
      "display_name": "Python 3"
    },
    "language_info": {
      "name": "python"
    }
  },
  "cells": [
    {
      "cell_type": "code",
      "execution_count": 3,
      "metadata": {
        "id": "TulYbZl7Z9yR"
      },
      "outputs": [],
      "source": [
        "import json\n",
        "import requests\n",
        "import pandas as pd\n",
        "\n",
        "# Define the URL for the JSON dataset\n",
        "json_url = \"https://udacity-dsnd.s3.amazonaws.com/sparkify/sparkify_event_data.json\"\n",
        "\n",
        "# Specify the number of records to fetch\n",
        "num_records = 750000  # Change this number as needed\n",
        "\n",
        "# Initialize a list to store the selected data\n",
        "selected_data = []\n",
        "\n",
        "# Create a generator function to fetch records one by one\n",
        "def fetch_records():\n",
        "    with requests.get(json_url, stream=True) as response:\n",
        "        for line in response.iter_lines(decode_unicode=True):\n",
        "            if line:\n",
        "                yield json.loads(line)\n",
        "\n",
        "# Fetch and process a limited number of records\n",
        "for record in fetch_records():\n",
        "    selected_data.append(record)\n",
        "    if len(selected_data) >= num_records:\n",
        "        break\n",
        "\n",
        "# Create a DataFrame from the selected data\n",
        "df = pd.DataFrame(selected_data)\n",
        "\n",
        "# Save the DataFrame to a CSV file\n",
        "df.to_csv('spotify_750k.csv', index=False)"
      ]
    },
    {
      "cell_type": "code",
      "source": [
        "# Download the CSV file in Google Colab\n",
        "from google.colab import files\n",
        "files.download('spotify_750k.csv')"
      ],
      "metadata": {
        "colab": {
          "base_uri": "https://localhost:8080/",
          "height": 17
        },
        "id": "WVDUy734Z-ee",
        "outputId": "71645dc8-a809-441c-a53f-0f22348c03f4"
      },
      "execution_count": 4,
      "outputs": [
        {
          "output_type": "display_data",
          "data": {
            "text/plain": [
              "<IPython.core.display.Javascript object>"
            ],
            "application/javascript": [
              "\n",
              "    async function download(id, filename, size) {\n",
              "      if (!google.colab.kernel.accessAllowed) {\n",
              "        return;\n",
              "      }\n",
              "      const div = document.createElement('div');\n",
              "      const label = document.createElement('label');\n",
              "      label.textContent = `Downloading \"${filename}\": `;\n",
              "      div.appendChild(label);\n",
              "      const progress = document.createElement('progress');\n",
              "      progress.max = size;\n",
              "      div.appendChild(progress);\n",
              "      document.body.appendChild(div);\n",
              "\n",
              "      const buffers = [];\n",
              "      let downloaded = 0;\n",
              "\n",
              "      const channel = await google.colab.kernel.comms.open(id);\n",
              "      // Send a message to notify the kernel that we're ready.\n",
              "      channel.send({})\n",
              "\n",
              "      for await (const message of channel.messages) {\n",
              "        // Send a message to notify the kernel that we're ready.\n",
              "        channel.send({})\n",
              "        if (message.buffers) {\n",
              "          for (const buffer of message.buffers) {\n",
              "            buffers.push(buffer);\n",
              "            downloaded += buffer.byteLength;\n",
              "            progress.value = downloaded;\n",
              "          }\n",
              "        }\n",
              "      }\n",
              "      const blob = new Blob(buffers, {type: 'application/binary'});\n",
              "      const a = document.createElement('a');\n",
              "      a.href = window.URL.createObjectURL(blob);\n",
              "      a.download = filename;\n",
              "      div.appendChild(a);\n",
              "      a.click();\n",
              "      div.remove();\n",
              "    }\n",
              "  "
            ]
          },
          "metadata": {}
        },
        {
          "output_type": "display_data",
          "data": {
            "text/plain": [
              "<IPython.core.display.Javascript object>"
            ],
            "application/javascript": [
              "download(\"download_256642ec-9cc1-479a-81cc-319b53c5b7ad\", \"spotify_750k.csv\", 196317665)"
            ]
          },
          "metadata": {}
        }
      ]
    },
    {
      "cell_type": "code",
      "source": [],
      "metadata": {
        "id": "KV73QjbWVf4z"
      },
      "execution_count": null,
      "outputs": []
    }
  ]
}